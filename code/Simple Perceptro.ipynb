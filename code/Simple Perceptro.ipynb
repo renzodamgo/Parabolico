{
 "cells": [
  {
   "cell_type": "code",
   "execution_count": 10,
   "metadata": {},
   "outputs": [],
   "source": [
    "#Perceptron simple\n",
    "\n",
    "class SimplePerceptron():\n",
    "    def __init__(self,x1s,x2s,dXs):\n",
    "        self.w1 = 1\n",
    "        self.w2 = 1\n",
    "        self.theta = 0.5\n",
    "        self.x1s = x1s\n",
    "        self.x2s = x2s\n",
    "        self.dXs = dXs\n",
    "\n",
    "    def train(self):\n",
    "        \n",
    "        for i in range(len(self.x1s)):\n",
    "            while(True):\n",
    "                fx = self.function(self.x1s[i],self.x2s[i])\n",
    "                print(fx)\n",
    "                if fx > 0 :\n",
    "                    y = 1\n",
    "                else:\n",
    "                    y = -1\n",
    "                print(\"Iteracion\",i, \"||||| x1: \",self.x1s[i],\" x2: \",self.x2s[i],\"dx\", self.dXs[i],\" w1: \",self.w1,\" w2: \",self.w2,\" theta: \",self.theta)\n",
    "\n",
    "\n",
    "                if y == self.dXs[i]:\n",
    "                    print(\"fucniona\")\n",
    "                    break\n",
    "                else:\n",
    "                    print(\"no funciona\")\n",
    "                    self.updateW(self.x1s[i],self.x2s[i],self.dXs[i])\n",
    "\n",
    "    def function(self,x1,x2):\n",
    "        fx = (x1*self.w1) + (x2*self.w2) + self.theta\n",
    "        return fx\n",
    "\n",
    "    def updateW(self,x1,x2,dx):\n",
    "        self.w1 = self.w1 + dx * x1\n",
    "        self.w2 = self.w2 + dx * x2\n",
    "        self.theta = self.theta + dx\n",
    "    \n",
    "    def predict(self,x1,x2):\n",
    "        fx = self.function(x1,x2)\n",
    "        if fx > 0 :\n",
    "            y = 1\n",
    "        else:\n",
    "            y = -1\n",
    "        return y\n"
   ]
  },
  {
   "cell_type": "code",
   "execution_count": 11,
   "metadata": {},
   "outputs": [
    {
     "name": "stdout",
     "output_type": "stream",
     "text": [
      "-1.5\n",
      "Iteracion 0 ||||| x1:  -1  x2:  -1 dx -1  w1:  1  w2:  1  theta:  0.5\n",
      "fucniona\n",
      "0.5\n",
      "Iteracion 1 ||||| x1:  1  x2:  -1 dx -1  w1:  1  w2:  1  theta:  0.5\n",
      "no funciona\n",
      "-2.5\n",
      "Iteracion 1 ||||| x1:  1  x2:  -1 dx -1  w1:  0  w2:  2  theta:  -0.5\n",
      "fucniona\n",
      "1.5\n",
      "Iteracion 2 ||||| x1:  -1  x2:  1 dx -1  w1:  0  w2:  2  theta:  -0.5\n",
      "no funciona\n",
      "-1.5\n",
      "Iteracion 2 ||||| x1:  -1  x2:  1 dx -1  w1:  1  w2:  1  theta:  -1.5\n",
      "fucniona\n",
      "0.5\n",
      "Iteracion 3 ||||| x1:  1  x2:  1 dx 1  w1:  1  w2:  1  theta:  -1.5\n",
      "fucniona\n"
     ]
    }
   ],
   "source": [
    "ga = SimplePerceptron([-1,1,-1,1],[-1,-1,1,1],[-1,-1,-1,1])\n",
    "ga.train()"
   ]
  },
  {
   "cell_type": "code",
   "execution_count": 14,
   "metadata": {},
   "outputs": [
    {
     "name": "stdout",
     "output_type": "stream",
     "text": [
      "-1\n"
     ]
    }
   ],
   "source": [
    "print(ga.predict(-1,-1))"
   ]
  },
  {
   "cell_type": "code",
   "execution_count": null,
   "metadata": {},
   "outputs": [],
   "source": []
  }
 ],
 "metadata": {
  "kernelspec": {
   "display_name": "Python 3",
   "language": "python",
   "name": "python3"
  },
  "language_info": {
   "codemirror_mode": {
    "name": "ipython",
    "version": 3
   },
   "file_extension": ".py",
   "mimetype": "text/x-python",
   "name": "python",
   "nbconvert_exporter": "python",
   "pygments_lexer": "ipython3",
   "version": "3.8.5"
  }
 },
 "nbformat": 4,
 "nbformat_minor": 4
}
